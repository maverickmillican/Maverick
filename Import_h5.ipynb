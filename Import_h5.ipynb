{
 "cells": [
  {
   "cell_type": "code",
   "execution_count": 215,
   "outputs": [],
   "source": [
    "import h5py\n",
    "import matplotlib.pyplot as plt\n",
    "import numpy as np\n",
    "import pandas as pd\n",
    "import json\n"
   ],
   "metadata": {
    "collapsed": false,
    "pycharm": {
     "name": "#%%\n"
    }
   }
  },
  {
   "cell_type": "code",
   "execution_count": 3,
   "outputs": [],
   "source": [
    "fileName = '000027073-RamanDdsApdBsbTimeScan.h5'\n",
    "\n",
    "\n",
    "f = h5py.File(fileName,'r')\n",
    "#Get the HDF5 group\n",
    "group = f['datasets']\n",
    "population = f['datasets/plot.1d_scan.histogram_context.probability']\n",
    "P1 = np.transpose(population[()])[0]\n",
    "time = f['datasets/scan/duration']\n",
    "time = time[()]"
   ],
   "metadata": {
    "collapsed": false,
    "pycharm": {
     "name": "#%%\n"
    }
   }
  },
  {
   "cell_type": "code",
   "execution_count": 90,
   "outputs": [
    {
     "data": {
      "text/plain": "['archive',\n 'artiq_version',\n 'datasets',\n 'expid',\n 'rid',\n 'run_time',\n 'start_time']"
     },
     "execution_count": 90,
     "metadata": {},
     "output_type": "execute_result"
    }
   ],
   "source": [
    "keys = list(f.keys())\n",
    "keys"
   ],
   "metadata": {
    "collapsed": false,
    "pycharm": {
     "name": "#%%\n"
    }
   }
  },
  {
   "cell_type": "code",
   "execution_count": 258,
   "outputs": [
    {
     "data": {
      "text/plain": "['dax',\n 'histogram_context',\n 'plot.1d_scan.histogram_context.fit',\n 'plot.1d_scan.histogram_context.probability',\n 'scan']"
     },
     "execution_count": 258,
     "metadata": {},
     "output_type": "execute_result"
    }
   ],
   "source": [
    "archive_keys = list(f['datasets'].keys())\n",
    "archive_keys"
   ],
   "metadata": {
    "collapsed": false,
    "pycharm": {
     "name": "#%%\n"
    }
   }
  },
  {
   "cell_type": "code",
   "execution_count": 237,
   "outputs": [
    {
     "data": {
      "text/plain": "['dax_sim_enabled',\n 'dax_version',\n 'git_commit',\n 'git_dirty',\n 'git_path',\n 'system_id',\n 'system_version']"
     },
     "execution_count": 237,
     "metadata": {},
     "output_type": "execute_result"
    }
   ],
   "source": [],
   "metadata": {
    "collapsed": false,
    "pycharm": {
     "name": "#%%\n"
    }
   }
  },
  {
   "cell_type": "code",
   "execution_count": 218,
   "outputs": [
    {
     "data": {
      "text/plain": "                                                          Data\nexperiment.camera.detection_thresholds.0          1.503200e+04\nexperiment.camera.image_region.h_end              2.690000e+02\nexperiment.camera.image_region.h_start            2.580000e+02\nexperiment.camera.image_region.v_end              2.560000e+02\nexperiment.camera.image_region.v_start            2.510000e+02\nexperiment.camera.rois.0.h_end                    5.000000e+00\nexperiment.camera.rois.0.h_start                  0.000000e+00\nexperiment.camera.rois.0.v_end                    6.000000e+00\nexperiment.camera.rois.0.v_start                  0.000000e+00\nexperiment.ion_number                             1.000000e+00\nexperiment.microwave.awg_output_amplitude         1.000000e+00\nexperiment.microwave.awg_qubit_frequency          2.000000e+08\nexperiment.microwave.awg_waveform_amplitude       3.000000e-01\nexperiment.microwave.dds_attenuation              0.000000e+00\nexperiment.microwave.mean_dds_qubit_frequency     3.459928e+08\nexperiment.raman.aom_delay                        1.800000e-06\nexperiment.raman.awg.dac_amplitude                9.000000e-01\nexperiment.raman.dds.bsb_frequencies.x.0          7.134523e+07\nexperiment.raman.dds.dac_amplitude                1.500000e+00\nexperiment.raman.dds.dds_attenuation              0.000000e+00\nexperiment.raman.dds.rsb_frequencies.x.0          6.866507e+07\nexperiment.raman.dds.rsb_frequencies.y.0          6.853233e+07\nexperiment.raman.dds.rsb_pi_times.x.0             2.031060e-04\nexperiment.raman.dds.rsb_pi_times.y.0             2.284380e-04\nsystem.awg.awg_sample_clock                       2.000000e+09\nsystem.awg.awg_trigger_delay                      1.370000e-06\nsystem.awg.awg_vector_length                      4.800000e+01\nsystem.detection.apd.detection_bins               5.000000e+00\nsystem.detection.apd.detection_time               2.500000e-04\nsystem.detection.apd.state_detection_threshold    4.000000e+00\nsystem.detection.camera.detection_time            2.000000e-03\nsystem.preparation.doppler_cool_dark_threshold    3.000000e+01\nsystem.preparation.optical_pumping_time           1.000000e-04\nsystem.sideband_cooling.number_pulses             3.500000e+01\nsystem.sideband_cooling.optical_pumping_duration  5.000000e-05\nsystem.sideband_cooling.raman_dds_amplitude       3.000000e-01",
      "text/html": "<div>\n<style scoped>\n    .dataframe tbody tr th:only-of-type {\n        vertical-align: middle;\n    }\n\n    .dataframe tbody tr th {\n        vertical-align: top;\n    }\n\n    .dataframe thead th {\n        text-align: right;\n    }\n</style>\n<table border=\"1\" class=\"dataframe\">\n  <thead>\n    <tr style=\"text-align: right;\">\n      <th></th>\n      <th>Data</th>\n    </tr>\n  </thead>\n  <tbody>\n    <tr>\n      <th>experiment.camera.detection_thresholds.0</th>\n      <td>1.503200e+04</td>\n    </tr>\n    <tr>\n      <th>experiment.camera.image_region.h_end</th>\n      <td>2.690000e+02</td>\n    </tr>\n    <tr>\n      <th>experiment.camera.image_region.h_start</th>\n      <td>2.580000e+02</td>\n    </tr>\n    <tr>\n      <th>experiment.camera.image_region.v_end</th>\n      <td>2.560000e+02</td>\n    </tr>\n    <tr>\n      <th>experiment.camera.image_region.v_start</th>\n      <td>2.510000e+02</td>\n    </tr>\n    <tr>\n      <th>experiment.camera.rois.0.h_end</th>\n      <td>5.000000e+00</td>\n    </tr>\n    <tr>\n      <th>experiment.camera.rois.0.h_start</th>\n      <td>0.000000e+00</td>\n    </tr>\n    <tr>\n      <th>experiment.camera.rois.0.v_end</th>\n      <td>6.000000e+00</td>\n    </tr>\n    <tr>\n      <th>experiment.camera.rois.0.v_start</th>\n      <td>0.000000e+00</td>\n    </tr>\n    <tr>\n      <th>experiment.ion_number</th>\n      <td>1.000000e+00</td>\n    </tr>\n    <tr>\n      <th>experiment.microwave.awg_output_amplitude</th>\n      <td>1.000000e+00</td>\n    </tr>\n    <tr>\n      <th>experiment.microwave.awg_qubit_frequency</th>\n      <td>2.000000e+08</td>\n    </tr>\n    <tr>\n      <th>experiment.microwave.awg_waveform_amplitude</th>\n      <td>3.000000e-01</td>\n    </tr>\n    <tr>\n      <th>experiment.microwave.dds_attenuation</th>\n      <td>0.000000e+00</td>\n    </tr>\n    <tr>\n      <th>experiment.microwave.mean_dds_qubit_frequency</th>\n      <td>3.459928e+08</td>\n    </tr>\n    <tr>\n      <th>experiment.raman.aom_delay</th>\n      <td>1.800000e-06</td>\n    </tr>\n    <tr>\n      <th>experiment.raman.awg.dac_amplitude</th>\n      <td>9.000000e-01</td>\n    </tr>\n    <tr>\n      <th>experiment.raman.dds.bsb_frequencies.x.0</th>\n      <td>7.134523e+07</td>\n    </tr>\n    <tr>\n      <th>experiment.raman.dds.dac_amplitude</th>\n      <td>1.500000e+00</td>\n    </tr>\n    <tr>\n      <th>experiment.raman.dds.dds_attenuation</th>\n      <td>0.000000e+00</td>\n    </tr>\n    <tr>\n      <th>experiment.raman.dds.rsb_frequencies.x.0</th>\n      <td>6.866507e+07</td>\n    </tr>\n    <tr>\n      <th>experiment.raman.dds.rsb_frequencies.y.0</th>\n      <td>6.853233e+07</td>\n    </tr>\n    <tr>\n      <th>experiment.raman.dds.rsb_pi_times.x.0</th>\n      <td>2.031060e-04</td>\n    </tr>\n    <tr>\n      <th>experiment.raman.dds.rsb_pi_times.y.0</th>\n      <td>2.284380e-04</td>\n    </tr>\n    <tr>\n      <th>system.awg.awg_sample_clock</th>\n      <td>2.000000e+09</td>\n    </tr>\n    <tr>\n      <th>system.awg.awg_trigger_delay</th>\n      <td>1.370000e-06</td>\n    </tr>\n    <tr>\n      <th>system.awg.awg_vector_length</th>\n      <td>4.800000e+01</td>\n    </tr>\n    <tr>\n      <th>system.detection.apd.detection_bins</th>\n      <td>5.000000e+00</td>\n    </tr>\n    <tr>\n      <th>system.detection.apd.detection_time</th>\n      <td>2.500000e-04</td>\n    </tr>\n    <tr>\n      <th>system.detection.apd.state_detection_threshold</th>\n      <td>4.000000e+00</td>\n    </tr>\n    <tr>\n      <th>system.detection.camera.detection_time</th>\n      <td>2.000000e-03</td>\n    </tr>\n    <tr>\n      <th>system.preparation.doppler_cool_dark_threshold</th>\n      <td>3.000000e+01</td>\n    </tr>\n    <tr>\n      <th>system.preparation.optical_pumping_time</th>\n      <td>1.000000e-04</td>\n    </tr>\n    <tr>\n      <th>system.sideband_cooling.number_pulses</th>\n      <td>3.500000e+01</td>\n    </tr>\n    <tr>\n      <th>system.sideband_cooling.optical_pumping_duration</th>\n      <td>5.000000e-05</td>\n    </tr>\n    <tr>\n      <th>system.sideband_cooling.raman_dds_amplitude</th>\n      <td>3.000000e-01</td>\n    </tr>\n  </tbody>\n</table>\n</div>"
     },
     "execution_count": 218,
     "metadata": {},
     "output_type": "execute_result"
    }
   ],
   "source": [
    "this = []\n",
    "for i in archive_keys:\n",
    "    string = 'archive/'+i\n",
    "    this.append(f[string][()])\n",
    "archive_info = pd.DataFrame(data=this, columns=['Data'], index=archive_keys)\n",
    "archive_info"
   ],
   "metadata": {
    "collapsed": false,
    "pycharm": {
     "name": "#%%\n"
    }
   }
  },
  {
   "cell_type": "code",
   "execution_count": 219,
   "outputs": [
    {
     "data": {
      "text/plain": "\"b'7.7612.47bf5d36.beta'\""
     },
     "execution_count": 219,
     "metadata": {},
     "output_type": "execute_result"
    }
   ],
   "source": [
    "version = str(f['artiq_version'][()])\n",
    "version"
   ],
   "metadata": {
    "collapsed": false,
    "pycharm": {
     "name": "#%%\n"
    }
   }
  },
  {
   "cell_type": "code",
   "execution_count": 229,
   "outputs": [
    {
     "data": {
      "text/plain": "100"
     },
     "execution_count": 229,
     "metadata": {},
     "output_type": "execute_result"
    }
   ],
   "source": [
    "datasets_keys = len((f['datasets/plot.1d_scan.histogram_context.probability']))\n",
    "datasets_keys"
   ],
   "metadata": {
    "collapsed": false,
    "pycharm": {
     "name": "#%%\n"
    }
   }
  },
  {
   "cell_type": "code",
   "execution_count": 220,
   "outputs": [
    {
     "data": {
      "text/plain": "array([0.00000000e+00, 5.05050505e-05, 1.01010101e-04, 1.51515152e-04,\n       2.02020202e-04, 2.52525253e-04, 3.03030303e-04, 3.53535354e-04,\n       4.04040404e-04, 4.54545455e-04, 5.05050505e-04, 5.55555556e-04,\n       6.06060606e-04, 6.56565657e-04, 7.07070707e-04, 7.57575758e-04,\n       8.08080808e-04, 8.58585859e-04, 9.09090909e-04, 9.59595960e-04,\n       1.01010101e-03, 1.06060606e-03, 1.11111111e-03, 1.16161616e-03,\n       1.21212121e-03, 1.26262626e-03, 1.31313131e-03, 1.36363636e-03,\n       1.41414141e-03, 1.46464646e-03, 1.51515152e-03, 1.56565657e-03,\n       1.61616162e-03, 1.66666667e-03, 1.71717172e-03, 1.76767677e-03,\n       1.81818182e-03, 1.86868687e-03, 1.91919192e-03, 1.96969697e-03,\n       2.02020202e-03, 2.07070707e-03, 2.12121212e-03, 2.17171717e-03,\n       2.22222222e-03, 2.27272727e-03, 2.32323232e-03, 2.37373737e-03,\n       2.42424242e-03, 2.47474747e-03, 2.52525253e-03, 2.57575758e-03,\n       2.62626263e-03, 2.67676768e-03, 2.72727273e-03, 2.77777778e-03,\n       2.82828283e-03, 2.87878788e-03, 2.92929293e-03, 2.97979798e-03,\n       3.03030303e-03, 3.08080808e-03, 3.13131313e-03, 3.18181818e-03,\n       3.23232323e-03, 3.28282828e-03, 3.33333333e-03, 3.38383838e-03,\n       3.43434343e-03, 3.48484848e-03, 3.53535354e-03, 3.58585859e-03,\n       3.63636364e-03, 3.68686869e-03, 3.73737374e-03, 3.78787879e-03,\n       3.83838384e-03, 3.88888889e-03, 3.93939394e-03, 3.98989899e-03,\n       4.04040404e-03, 4.09090909e-03, 4.14141414e-03, 4.19191919e-03,\n       4.24242424e-03, 4.29292929e-03, 4.34343434e-03, 4.39393939e-03,\n       4.44444444e-03, 4.49494949e-03, 4.54545455e-03, 4.59595960e-03,\n       4.64646465e-03, 4.69696970e-03, 4.74747475e-03, 4.79797980e-03,\n       4.84848485e-03, 4.89898990e-03, 4.94949495e-03, 5.00000000e-03])"
     },
     "execution_count": 220,
     "metadata": {},
     "output_type": "execute_result"
    }
   ],
   "source": [
    "f['datasets/scan/product/duration'][()]"
   ],
   "metadata": {
    "collapsed": false,
    "pycharm": {
     "name": "#%%\n"
    }
   }
  },
  {
   "cell_type": "code",
   "execution_count": 290,
   "outputs": [
    {
     "data": {
      "text/plain": "    duration  plot.1d_scan.histogram_context.fit  \\\n0   0.000000                            0.000000   \n1   0.000051                            0.146909   \n2   0.000101                            0.498771   \n3   0.000152                            0.849566   \n4   0.000202                            0.994937   \n..       ...                                 ...   \n95  0.004798                            0.256701   \n96  0.004848                            0.110992   \n97  0.004899                            0.192644   \n98  0.004949                            0.452937   \n99  0.005000                            0.739327   \n\n    plot.1d_scan.histogram_context.probability  \n0                                        0.000  \n1                                        0.190  \n2                                        0.525  \n3                                        0.750  \n4                                        0.935  \n..                                         ...  \n95                                       0.170  \n96                                       0.060  \n97                                       0.195  \n98                                       0.575  \n99                                       0.835  \n\n[100 rows x 3 columns]",
      "text/html": "<div>\n<style scoped>\n    .dataframe tbody tr th:only-of-type {\n        vertical-align: middle;\n    }\n\n    .dataframe tbody tr th {\n        vertical-align: top;\n    }\n\n    .dataframe thead th {\n        text-align: right;\n    }\n</style>\n<table border=\"1\" class=\"dataframe\">\n  <thead>\n    <tr style=\"text-align: right;\">\n      <th></th>\n      <th>duration</th>\n      <th>plot.1d_scan.histogram_context.fit</th>\n      <th>plot.1d_scan.histogram_context.probability</th>\n    </tr>\n  </thead>\n  <tbody>\n    <tr>\n      <th>0</th>\n      <td>0.000000</td>\n      <td>0.000000</td>\n      <td>0.000</td>\n    </tr>\n    <tr>\n      <th>1</th>\n      <td>0.000051</td>\n      <td>0.146909</td>\n      <td>0.190</td>\n    </tr>\n    <tr>\n      <th>2</th>\n      <td>0.000101</td>\n      <td>0.498771</td>\n      <td>0.525</td>\n    </tr>\n    <tr>\n      <th>3</th>\n      <td>0.000152</td>\n      <td>0.849566</td>\n      <td>0.750</td>\n    </tr>\n    <tr>\n      <th>4</th>\n      <td>0.000202</td>\n      <td>0.994937</td>\n      <td>0.935</td>\n    </tr>\n    <tr>\n      <th>...</th>\n      <td>...</td>\n      <td>...</td>\n      <td>...</td>\n    </tr>\n    <tr>\n      <th>95</th>\n      <td>0.004798</td>\n      <td>0.256701</td>\n      <td>0.170</td>\n    </tr>\n    <tr>\n      <th>96</th>\n      <td>0.004848</td>\n      <td>0.110992</td>\n      <td>0.060</td>\n    </tr>\n    <tr>\n      <th>97</th>\n      <td>0.004899</td>\n      <td>0.192644</td>\n      <td>0.195</td>\n    </tr>\n    <tr>\n      <th>98</th>\n      <td>0.004949</td>\n      <td>0.452937</td>\n      <td>0.575</td>\n    </tr>\n    <tr>\n      <th>99</th>\n      <td>0.005000</td>\n      <td>0.739327</td>\n      <td>0.835</td>\n    </tr>\n  </tbody>\n</table>\n<p>100 rows × 3 columns</p>\n</div>"
     },
     "execution_count": 290,
     "metadata": {},
     "output_type": "execute_result"
    }
   ],
   "source": [
    "raw_data = pd.DataFrame()\n",
    "scan_strings = list(f['datasets/scan/product'].keys())\n",
    "rows = []\n",
    "\n",
    "scan_calls = []\n",
    "for i in scan_variables:\n",
    "    scan_calls.append('datasets/scan/product/'+i)\n",
    "\n",
    "for i in range(len(list(f[scan_calls[0]]))):\n",
    "    input = []\n",
    "    for j in scan_calls:\n",
    "        input.append(f[j][i])\n",
    "    rows.append(input)\n",
    "\n",
    "result_strings = []\n",
    "for i in list(f['datasets/'].keys()):\n",
    "    if i in ['dax', 'histogram_context', 'scan']:\n",
    "        pass\n",
    "    else:\n",
    "        result_strings.append(i)\n",
    "\n",
    "results = []\n",
    "for j in result_strings:\n",
    "    results = list((f['datasets/' + j][()]))\n",
    "    for i in range(len(rows)):\n",
    "        rows[i].append(float(results[i]))\n",
    "\n",
    "\n",
    "column_strings = scan_strings+result_strings\n",
    "\n",
    "data = pd.DataFrame(data = rows, columns=column_strings)\n",
    "data"
   ],
   "metadata": {
    "collapsed": false,
    "pycharm": {
     "name": "#%%\n"
    }
   }
  },
  {
   "cell_type": "code",
   "execution_count": 233,
   "outputs": [
    {
     "data": {
      "text/plain": "[<matplotlib.lines.Line2D at 0x1ca2be6bac0>]"
     },
     "execution_count": 233,
     "metadata": {},
     "output_type": "execute_result"
    },
    {
     "data": {
      "text/plain": "<Figure size 432x288 with 1 Axes>",
      "image/png": "[encoded data removed]"
     },
     "metadata": {
      "needs_background": "light"
     },
     "output_type": "display_data"
    }
   ],
   "source": [
    "plt.plot(data['duration'], data['Probabilities'])\n",
    "plt.plot(data['duration'], data['Fit'])"
   ],
   "metadata": {
    "collapsed": false,
    "pycharm": {
     "name": "#%%\n"
    }
   }
  },
  {
   "cell_type": "code",
   "execution_count": 328,
   "outputs": [
    {
     "name": "stdout",
     "output_type": "stream",
     "text": [
      "{'Raman Phase mode': 'TRACKING', 'Raman AWG output amplitude': 0.9, 'Raman DDS DAC amplitude': 1.5, 'Raman DDS attenuation': 0.0, 'DDS frequency': 345992832.0, 'DDS attenuation': 0.0, 'AWG frequency': 200000000.0, 'AWG waveform amplitude': 0.3, 'AWG output amplitude': 1.0, 'Phase mode': 'TRACKING', 'APD Detection time': 0.00025, 'Detection bins': 5, 'APD Threshold': 4, 'Doppler cooling time': 0.006, 'Doppler cooling dark threshold': 30, 'Optical pumping time': 0.0001, 'Raman DAC amplitude': 1.5, 'Raman DDS amplitude': 0.3, 'Optical pumping duration': 5e-05, 'Number of sb cooling pulses': 35, 'Cool radial X modes': True, 'Cool radial Y modes': True, 'Number of modes to cool': 1, '411 Frequency': 206000000.0, '411 Attenuation': 9.0, '760 Frequency': 364000000.0, '760 Power': 30.0, 'Image H start': 258.0, 'Image V start': 251.0, 'Image H end': 269.0, 'Image V end': 256.0, 'Detection time': 0.002, 'Raman pulse duration': {'start': 0.0, 'stop': 0.005, 'npoints': 100, 'randomize': False, 'seed': None, 'ty': 'RangeScan'}, 'Selected mode': 'MODE_1', 'Mode order': 0, 'DDS amplitude': 0.3, 'Custom BSB frequency': 70000000.0, 'Repetitions': 200, 'Sideband Cooling': True, 'Update fit': True, 'Infinite scan': False}\n"
     ]
    },
    {
     "data": {
      "text/plain": "{'Raman Phase mode': 'TRACKING',\n 'Raman AWG output amplitude': 0.9,\n 'Raman DDS DAC amplitude': 1.5,\n 'Raman DDS attenuation': 0.0,\n 'DDS frequency': 345992832.0,\n 'DDS attenuation': 0.0,\n 'AWG frequency': 200000000.0,\n 'AWG waveform amplitude': 0.3,\n 'AWG output amplitude': 1.0,\n 'Phase mode': 'TRACKING',\n 'APD Detection time': 0.00025,\n 'Detection bins': 5,\n 'APD Threshold': 4,\n 'Doppler cooling time': 0.006,\n 'Doppler cooling dark threshold': 30,\n 'Optical pumping time': 0.0001,\n 'Raman DAC amplitude': 1.5,\n 'Raman DDS amplitude': 0.3,\n 'Optical pumping duration': 5e-05,\n 'Number of sb cooling pulses': 35,\n 'Cool radial X modes': True,\n 'Cool radial Y modes': True,\n 'Number of modes to cool': 1,\n '411 Frequency': 206000000.0,\n '411 Attenuation': 9.0,\n '760 Frequency': 364000000.0,\n '760 Power': 30.0,\n 'Image H start': 258.0,\n 'Image V start': 251.0,\n 'Image H end': 269.0,\n 'Image V end': 256.0,\n 'Detection time': 0.002,\n 'Raman pulse duration': {'start': 0.0,\n  'stop': 0.005,\n  'npoints': 100,\n  'randomize': False,\n  'seed': None,\n  'ty': 'RangeScan'},\n 'Selected mode': 'MODE_1',\n 'Mode order': 0,\n 'DDS amplitude': 0.3,\n 'Custom BSB frequency': 70000000.0,\n 'Repetitions': 200,\n 'Sideband Cooling': True,\n 'Update fit': True,\n 'Infinite scan': False,\n 'log_level': 30,\n 'file': 'calibrations/raman/dds/rmn_dds_apd_bsb_time_scan.py',\n 'class_name': 'RamanDdsApdBsbTimeScan',\n 'arguments': 9.0,\n 'repo_rev': 'N/A'}"
     },
     "execution_count": 328,
     "metadata": {},
     "output_type": "execute_result"
    }
   ],
   "source": [
    "exp_id = (f['expid'][()])\n",
    "exp_id = json.loads(exp_id)\n",
    "exp_dict = exp_id['arguments']\n",
    "\n",
    "exp_id = pd.DataFrame(exp_id)\n",
    "column_list = exp_id.columns.values.tolist()\n",
    "arguments = exp_id.filter(items=['arguments'])\n",
    "print(exp_dict)\n",
    "\n",
    "exp_info = exp_id.filter(items=column_list).iloc[0]\n",
    "list(exp_info)\n",
    "\n",
    "keys = list(exp_info.index)\n",
    "values = list(exp_info)\n",
    "\n",
    "# using map and dict type casting\n",
    "# to convert lists to dictionary\n",
    "res = dict(map(lambda i,j : (i,j) , keys,values))\n",
    "exp_dict.update(res)"
   ],
   "metadata": {
    "collapsed": false,
    "pycharm": {
     "name": "#%%\n"
    }
   }
  },
  {
   "cell_type": "code",
   "execution_count": 146,
   "outputs": [
    {
     "data": {
      "text/plain": "                                                                        arguments\n411 Attenuation                                                               9.0\n411 Frequency                                                         206000000.0\n760 Frequency                                                         364000000.0\n760 Power                                                                    30.0\nAPD Detection time                                                        0.00025\nAPD Threshold                                                                   4\nAWG frequency                                                         200000000.0\nAWG output amplitude                                                          1.0\nAWG waveform amplitude                                                        0.3\nCool radial X modes                                                          True\nCool radial Y modes                                                          True\nCustom BSB frequency                                                   70000000.0\nDDS amplitude                                                                 0.3\nDDS attenuation                                                               0.0\nDDS frequency                                                         345992832.0\nDetection bins                                                                  5\nDetection time                                                              0.002\nDoppler cooling dark threshold                                                 30\nDoppler cooling time                                                        0.006\nImage H end                                                                 269.0\nImage H start                                                               258.0\nImage V end                                                                 256.0\nImage V start                                                               251.0\nInfinite scan                                                               False\nMode order                                                                      0\nNumber of modes to cool                                                         1\nNumber of sb cooling pulses                                                    35\nOptical pumping duration                                                  0.00005\nOptical pumping time                                                       0.0001\nPhase mode                                                               TRACKING\nRaman AWG output amplitude                                                    0.9\nRaman DAC amplitude                                                           1.5\nRaman DDS DAC amplitude                                                       1.5\nRaman DDS amplitude                                                           0.3\nRaman DDS attenuation                                                         0.0\nRaman Phase mode                                                         TRACKING\nRaman pulse duration            {'start': 0.0, 'stop': 0.005, 'npoints': 100, ...\nRepetitions                                                                   200\nSelected mode                                                              MODE_1\nSideband Cooling                                                             True\nUpdate fit                                                                   True",
      "text/html": "<div>\n<style scoped>\n    .dataframe tbody tr th:only-of-type {\n        vertical-align: middle;\n    }\n\n    .dataframe tbody tr th {\n        vertical-align: top;\n    }\n\n    .dataframe thead th {\n        text-align: right;\n    }\n</style>\n<table border=\"1\" class=\"dataframe\">\n  <thead>\n    <tr style=\"text-align: right;\">\n      <th></th>\n      <th>arguments</th>\n    </tr>\n  </thead>\n  <tbody>\n    <tr>\n      <th>411 Attenuation</th>\n      <td>9.0</td>\n    </tr>\n    <tr>\n      <th>411 Frequency</th>\n      <td>206000000.0</td>\n    </tr>\n    <tr>\n      <th>760 Frequency</th>\n      <td>364000000.0</td>\n    </tr>\n    <tr>\n      <th>760 Power</th>\n      <td>30.0</td>\n    </tr>\n    <tr>\n      <th>APD Detection time</th>\n      <td>0.00025</td>\n    </tr>\n    <tr>\n      <th>APD Threshold</th>\n      <td>4</td>\n    </tr>\n    <tr>\n      <th>AWG frequency</th>\n      <td>200000000.0</td>\n    </tr>\n    <tr>\n      <th>AWG output amplitude</th>\n      <td>1.0</td>\n    </tr>\n    <tr>\n      <th>AWG waveform amplitude</th>\n      <td>0.3</td>\n    </tr>\n    <tr>\n      <th>Cool radial X modes</th>\n      <td>True</td>\n    </tr>\n    <tr>\n      <th>Cool radial Y modes</th>\n      <td>True</td>\n    </tr>\n    <tr>\n      <th>Custom BSB frequency</th>\n      <td>70000000.0</td>\n    </tr>\n    <tr>\n      <th>DDS amplitude</th>\n      <td>0.3</td>\n    </tr>\n    <tr>\n      <th>DDS attenuation</th>\n      <td>0.0</td>\n    </tr>\n    <tr>\n      <th>DDS frequency</th>\n      <td>345992832.0</td>\n    </tr>\n    <tr>\n      <th>Detection bins</th>\n      <td>5</td>\n    </tr>\n    <tr>\n      <th>Detection time</th>\n      <td>0.002</td>\n    </tr>\n    <tr>\n      <th>Doppler cooling dark threshold</th>\n      <td>30</td>\n    </tr>\n    <tr>\n      <th>Doppler cooling time</th>\n      <td>0.006</td>\n    </tr>\n    <tr>\n      <th>Image H end</th>\n      <td>269.0</td>\n    </tr>\n    <tr>\n      <th>Image H start</th>\n      <td>258.0</td>\n    </tr>\n    <tr>\n      <th>Image V end</th>\n      <td>256.0</td>\n    </tr>\n    <tr>\n      <th>Image V start</th>\n      <td>251.0</td>\n    </tr>\n    <tr>\n      <th>Infinite scan</th>\n      <td>False</td>\n    </tr>\n    <tr>\n      <th>Mode order</th>\n      <td>0</td>\n    </tr>\n    <tr>\n      <th>Number of modes to cool</th>\n      <td>1</td>\n    </tr>\n    <tr>\n      <th>Number of sb cooling pulses</th>\n      <td>35</td>\n    </tr>\n    <tr>\n      <th>Optical pumping duration</th>\n      <td>0.00005</td>\n    </tr>\n    <tr>\n      <th>Optical pumping time</th>\n      <td>0.0001</td>\n    </tr>\n    <tr>\n      <th>Phase mode</th>\n      <td>TRACKING</td>\n    </tr>\n    <tr>\n      <th>Raman AWG output amplitude</th>\n      <td>0.9</td>\n    </tr>\n    <tr>\n      <th>Raman DAC amplitude</th>\n      <td>1.5</td>\n    </tr>\n    <tr>\n      <th>Raman DDS DAC amplitude</th>\n      <td>1.5</td>\n    </tr>\n    <tr>\n      <th>Raman DDS amplitude</th>\n      <td>0.3</td>\n    </tr>\n    <tr>\n      <th>Raman DDS attenuation</th>\n      <td>0.0</td>\n    </tr>\n    <tr>\n      <th>Raman Phase mode</th>\n      <td>TRACKING</td>\n    </tr>\n    <tr>\n      <th>Raman pulse duration</th>\n      <td>{'start': 0.0, 'stop': 0.005, 'npoints': 100, ...</td>\n    </tr>\n    <tr>\n      <th>Repetitions</th>\n      <td>200</td>\n    </tr>\n    <tr>\n      <th>Selected mode</th>\n      <td>MODE_1</td>\n    </tr>\n    <tr>\n      <th>Sideband Cooling</th>\n      <td>True</td>\n    </tr>\n    <tr>\n      <th>Update fit</th>\n      <td>True</td>\n    </tr>\n  </tbody>\n</table>\n</div>"
     },
     "execution_count": 146,
     "metadata": {},
     "output_type": "execute_result"
    }
   ],
   "source": [
    "arguments"
   ],
   "metadata": {
    "collapsed": false,
    "pycharm": {
     "name": "#%%\n"
    }
   }
  },
  {
   "cell_type": "code",
   "execution_count": 147,
   "outputs": [
    {
     "data": {
      "text/plain": "log_level                                                    30\nfile          calibrations/raman/dds/rmn_dds_apd_bsb_time_sc...\nclass_name                               RamanDdsApdBsbTimeScan\narguments                                                   9.0\nrepo_rev                                                    N/A\nName: 411 Attenuation, dtype: object"
     },
     "execution_count": 147,
     "metadata": {},
     "output_type": "execute_result"
    }
   ],
   "source": [
    "exp_info.append()"
   ],
   "metadata": {
    "collapsed": false,
    "pycharm": {
     "name": "#%%\n"
    }
   }
  },
  {
   "cell_type": "code",
   "execution_count": 74,
   "outputs": [
    {
     "data": {
      "text/plain": "27073"
     },
     "execution_count": 74,
     "metadata": {},
     "output_type": "execute_result"
    }
   ],
   "source": [
    "f['rid'][()]"
   ],
   "metadata": {
    "collapsed": false,
    "pycharm": {
     "name": "#%%\n"
    }
   }
  },
  {
   "cell_type": "code",
   "execution_count": 18,
   "outputs": [
    {
     "data": {
      "text/plain": "1666584595.770181"
     },
     "execution_count": 18,
     "metadata": {},
     "output_type": "execute_result"
    }
   ],
   "source": [
    "f['run_time'][()]"
   ],
   "metadata": {
    "collapsed": false,
    "pycharm": {
     "name": "#%%\n"
    }
   }
  },
  {
   "cell_type": "code",
   "execution_count": 19,
   "outputs": [
    {
     "data": {
      "text/plain": "1666584595.1042197"
     },
     "execution_count": 19,
     "metadata": {},
     "output_type": "execute_result"
    }
   ],
   "source": [
    "f['start_time'][()]"
   ],
   "metadata": {
    "collapsed": false,
    "pycharm": {
     "name": "#%%\n"
    }
   }
  },
  {
   "cell_type": "code",
   "execution_count": null,
   "outputs": [],
   "source": [],
   "metadata": {
    "collapsed": false,
    "pycharm": {
     "name": "#%%\n"
    }
   }
  }
 ],
 "metadata": {
  "kernelspec": {
   "display_name": "Python 3",
   "language": "python",
   "name": "python3"
  },
  "language_info": {
   "codemirror_mode": {
    "name": "ipython",
    "version": 2
   },
   "file_extension": ".py",
   "mimetype": "text/x-python",
   "name": "python",
   "nbconvert_exporter": "python",
   "pygments_lexer": "ipython2",
   "version": "2.7.6"
  }
 },
 "nbformat": 4,
 "nbformat_minor": 0
}