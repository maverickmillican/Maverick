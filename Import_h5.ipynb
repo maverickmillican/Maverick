{
 "cells": [
  {
   "cell_type": "code",
   "execution_count": 24,
   "outputs": [],
   "source": [
    "import h5py\n",
    "import matplotlib.pyplot as plt\n",
    "import numpy as np\n",
    "import pandas as pd\n",
    "import json\n"
   ],
   "metadata": {
    "collapsed": false,
    "pycharm": {
     "name": "#%%\n"
    }
   }
  },
  {
   "cell_type": "code",
   "execution_count": 25,
   "outputs": [],
   "source": [
    "fileName = '000027073-RamanDdsApdBsbTimeScan.h5'\n",
    "\n",
    "\n",
    "f = h5py.File(fileName,'r')\n",
    "#Get the HDF5 group\n",
    "group = f['datasets']\n",
    "population = f['datasets/plot.1d_scan.histogram_context.probability']\n",
    "P1 = np.transpose(population[()])[0]\n",
    "time = f['datasets/scan/duration']\n",
    "time = time[()]"
   ],
   "metadata": {
    "collapsed": false,
    "pycharm": {
     "name": "#%%\n"
    }
   }
  },
  {
   "cell_type": "code",
   "execution_count": 26,
   "outputs": [
    {
     "data": {
      "text/plain": "['archive',\n 'artiq_version',\n 'datasets',\n 'expid',\n 'rid',\n 'run_time',\n 'start_time']"
     },
     "execution_count": 26,
     "metadata": {},
     "output_type": "execute_result"
    }
   ],
   "source": [
    "keys = list(f.keys())\n",
    "keys"
   ],
   "metadata": {
    "collapsed": false,
    "pycharm": {
     "name": "#%%\n"
    }
   }
  },
  {
   "cell_type": "code",
   "execution_count": 27,
   "outputs": [
    {
     "data": {
      "text/plain": "['experiment.camera.detection_thresholds.0',\n 'experiment.camera.image_region.h_end',\n 'experiment.camera.image_region.h_start',\n 'experiment.camera.image_region.v_end',\n 'experiment.camera.image_region.v_start',\n 'experiment.camera.rois.0.h_end',\n 'experiment.camera.rois.0.h_start',\n 'experiment.camera.rois.0.v_end',\n 'experiment.camera.rois.0.v_start',\n 'experiment.ion_number',\n 'experiment.microwave.awg_output_amplitude',\n 'experiment.microwave.awg_qubit_frequency',\n 'experiment.microwave.awg_waveform_amplitude',\n 'experiment.microwave.dds_attenuation',\n 'experiment.microwave.mean_dds_qubit_frequency',\n 'experiment.raman.aom_delay',\n 'experiment.raman.awg.dac_amplitude',\n 'experiment.raman.dds.bsb_frequencies.x.0',\n 'experiment.raman.dds.dac_amplitude',\n 'experiment.raman.dds.dds_attenuation',\n 'experiment.raman.dds.rsb_frequencies.x.0',\n 'experiment.raman.dds.rsb_frequencies.y.0',\n 'experiment.raman.dds.rsb_pi_times.x.0',\n 'experiment.raman.dds.rsb_pi_times.y.0',\n 'system.awg.awg_sample_clock',\n 'system.awg.awg_trigger_delay',\n 'system.awg.awg_vector_length',\n 'system.detection.apd.detection_bins',\n 'system.detection.apd.detection_time',\n 'system.detection.apd.state_detection_threshold',\n 'system.detection.camera.detection_time',\n 'system.preparation.doppler_cool_dark_threshold',\n 'system.preparation.optical_pumping_time',\n 'system.sideband_cooling.number_pulses',\n 'system.sideband_cooling.optical_pumping_duration',\n 'system.sideband_cooling.raman_dds_amplitude']"
     },
     "execution_count": 27,
     "metadata": {},
     "output_type": "execute_result"
    }
   ],
   "source": [
    "archive_keys = list(f['archive'].keys())\n",
    "archive_keys"
   ],
   "metadata": {
    "collapsed": false,
    "pycharm": {
     "name": "#%%\n"
    }
   }
  },
  {
   "cell_type": "code",
   "execution_count": 27,
   "outputs": [],
   "source": [],
   "metadata": {
    "collapsed": false,
    "pycharm": {
     "name": "#%%\n"
    }
   }
  },
  {
   "cell_type": "code",
   "execution_count": 28,
   "outputs": [
    {
     "data": {
      "text/plain": "                                                          Data\nexperiment.camera.detection_thresholds.0          1.503200e+04\nexperiment.camera.image_region.h_end              2.690000e+02\nexperiment.camera.image_region.h_start            2.580000e+02\nexperiment.camera.image_region.v_end              2.560000e+02\nexperiment.camera.image_region.v_start            2.510000e+02\nexperiment.camera.rois.0.h_end                    5.000000e+00\nexperiment.camera.rois.0.h_start                  0.000000e+00\nexperiment.camera.rois.0.v_end                    6.000000e+00\nexperiment.camera.rois.0.v_start                  0.000000e+00\nexperiment.ion_number                             1.000000e+00\nexperiment.microwave.awg_output_amplitude         1.000000e+00\nexperiment.microwave.awg_qubit_frequency          2.000000e+08\nexperiment.microwave.awg_waveform_amplitude       3.000000e-01\nexperiment.microwave.dds_attenuation              0.000000e+00\nexperiment.microwave.mean_dds_qubit_frequency     3.459928e+08\nexperiment.raman.aom_delay                        1.800000e-06\nexperiment.raman.awg.dac_amplitude                9.000000e-01\nexperiment.raman.dds.bsb_frequencies.x.0          7.134523e+07\nexperiment.raman.dds.dac_amplitude                1.500000e+00\nexperiment.raman.dds.dds_attenuation              0.000000e+00\nexperiment.raman.dds.rsb_frequencies.x.0          6.866507e+07\nexperiment.raman.dds.rsb_frequencies.y.0          6.853233e+07\nexperiment.raman.dds.rsb_pi_times.x.0             2.031060e-04\nexperiment.raman.dds.rsb_pi_times.y.0             2.284380e-04\nsystem.awg.awg_sample_clock                       2.000000e+09\nsystem.awg.awg_trigger_delay                      1.370000e-06\nsystem.awg.awg_vector_length                      4.800000e+01\nsystem.detection.apd.detection_bins               5.000000e+00\nsystem.detection.apd.detection_time               2.500000e-04\nsystem.detection.apd.state_detection_threshold    4.000000e+00\nsystem.detection.camera.detection_time            2.000000e-03\nsystem.preparation.doppler_cool_dark_threshold    3.000000e+01\nsystem.preparation.optical_pumping_time           1.000000e-04\nsystem.sideband_cooling.number_pulses             3.500000e+01\nsystem.sideband_cooling.optical_pumping_duration  5.000000e-05\nsystem.sideband_cooling.raman_dds_amplitude       3.000000e-01",
      "text/html": "<div>\n<style scoped>\n    .dataframe tbody tr th:only-of-type {\n        vertical-align: middle;\n    }\n\n    .dataframe tbody tr th {\n        vertical-align: top;\n    }\n\n    .dataframe thead th {\n        text-align: right;\n    }\n</style>\n<table border=\"1\" class=\"dataframe\">\n  <thead>\n    <tr style=\"text-align: right;\">\n      <th></th>\n      <th>Data</th>\n    </tr>\n  </thead>\n  <tbody>\n    <tr>\n      <th>experiment.camera.detection_thresholds.0</th>\n      <td>1.503200e+04</td>\n    </tr>\n    <tr>\n      <th>experiment.camera.image_region.h_end</th>\n      <td>2.690000e+02</td>\n    </tr>\n    <tr>\n      <th>experiment.camera.image_region.h_start</th>\n      <td>2.580000e+02</td>\n    </tr>\n    <tr>\n      <th>experiment.camera.image_region.v_end</th>\n      <td>2.560000e+02</td>\n    </tr>\n    <tr>\n      <th>experiment.camera.image_region.v_start</th>\n      <td>2.510000e+02</td>\n    </tr>\n    <tr>\n      <th>experiment.camera.rois.0.h_end</th>\n      <td>5.000000e+00</td>\n    </tr>\n    <tr>\n      <th>experiment.camera.rois.0.h_start</th>\n      <td>0.000000e+00</td>\n    </tr>\n    <tr>\n      <th>experiment.camera.rois.0.v_end</th>\n      <td>6.000000e+00</td>\n    </tr>\n    <tr>\n      <th>experiment.camera.rois.0.v_start</th>\n      <td>0.000000e+00</td>\n    </tr>\n    <tr>\n      <th>experiment.ion_number</th>\n      <td>1.000000e+00</td>\n    </tr>\n    <tr>\n      <th>experiment.microwave.awg_output_amplitude</th>\n      <td>1.000000e+00</td>\n    </tr>\n    <tr>\n      <th>experiment.microwave.awg_qubit_frequency</th>\n      <td>2.000000e+08</td>\n    </tr>\n    <tr>\n      <th>experiment.microwave.awg_waveform_amplitude</th>\n      <td>3.000000e-01</td>\n    </tr>\n    <tr>\n      <th>experiment.microwave.dds_attenuation</th>\n      <td>0.000000e+00</td>\n    </tr>\n    <tr>\n      <th>experiment.microwave.mean_dds_qubit_frequency</th>\n      <td>3.459928e+08</td>\n    </tr>\n    <tr>\n      <th>experiment.raman.aom_delay</th>\n      <td>1.800000e-06</td>\n    </tr>\n    <tr>\n      <th>experiment.raman.awg.dac_amplitude</th>\n      <td>9.000000e-01</td>\n    </tr>\n    <tr>\n      <th>experiment.raman.dds.bsb_frequencies.x.0</th>\n      <td>7.134523e+07</td>\n    </tr>\n    <tr>\n      <th>experiment.raman.dds.dac_amplitude</th>\n      <td>1.500000e+00</td>\n    </tr>\n    <tr>\n      <th>experiment.raman.dds.dds_attenuation</th>\n      <td>0.000000e+00</td>\n    </tr>\n    <tr>\n      <th>experiment.raman.dds.rsb_frequencies.x.0</th>\n      <td>6.866507e+07</td>\n    </tr>\n    <tr>\n      <th>experiment.raman.dds.rsb_frequencies.y.0</th>\n      <td>6.853233e+07</td>\n    </tr>\n    <tr>\n      <th>experiment.raman.dds.rsb_pi_times.x.0</th>\n      <td>2.031060e-04</td>\n    </tr>\n    <tr>\n      <th>experiment.raman.dds.rsb_pi_times.y.0</th>\n      <td>2.284380e-04</td>\n    </tr>\n    <tr>\n      <th>system.awg.awg_sample_clock</th>\n      <td>2.000000e+09</td>\n    </tr>\n    <tr>\n      <th>system.awg.awg_trigger_delay</th>\n      <td>1.370000e-06</td>\n    </tr>\n    <tr>\n      <th>system.awg.awg_vector_length</th>\n      <td>4.800000e+01</td>\n    </tr>\n    <tr>\n      <th>system.detection.apd.detection_bins</th>\n      <td>5.000000e+00</td>\n    </tr>\n    <tr>\n      <th>system.detection.apd.detection_time</th>\n      <td>2.500000e-04</td>\n    </tr>\n    <tr>\n      <th>system.detection.apd.state_detection_threshold</th>\n      <td>4.000000e+00</td>\n    </tr>\n    <tr>\n      <th>system.detection.camera.detection_time</th>\n      <td>2.000000e-03</td>\n    </tr>\n    <tr>\n      <th>system.preparation.doppler_cool_dark_threshold</th>\n      <td>3.000000e+01</td>\n    </tr>\n    <tr>\n      <th>system.preparation.optical_pumping_time</th>\n      <td>1.000000e-04</td>\n    </tr>\n    <tr>\n      <th>system.sideband_cooling.number_pulses</th>\n      <td>3.500000e+01</td>\n    </tr>\n    <tr>\n      <th>system.sideband_cooling.optical_pumping_duration</th>\n      <td>5.000000e-05</td>\n    </tr>\n    <tr>\n      <th>system.sideband_cooling.raman_dds_amplitude</th>\n      <td>3.000000e-01</td>\n    </tr>\n  </tbody>\n</table>\n</div>"
     },
     "execution_count": 28,
     "metadata": {},
     "output_type": "execute_result"
    }
   ],
   "source": [
    "this = []\n",
    "for i in archive_keys:\n",
    "    string = 'archive/'+i\n",
    "    this.append(f[string][()])\n",
    "archive_info = pd.DataFrame(data=this, columns=['Data'], index=archive_keys)\n",
    "archive_info"
   ],
   "metadata": {
    "collapsed": false,
    "pycharm": {
     "name": "#%%\n"
    }
   }
  },
  {
   "cell_type": "code",
   "execution_count": 29,
   "outputs": [
    {
     "data": {
      "text/plain": "\"b'7.7612.47bf5d36.beta'\""
     },
     "execution_count": 29,
     "metadata": {},
     "output_type": "execute_result"
    }
   ],
   "source": [
    "version = str(f['artiq_version'][()])\n",
    "version"
   ],
   "metadata": {
    "collapsed": false,
    "pycharm": {
     "name": "#%%\n"
    }
   }
  },
  {
   "cell_type": "code",
   "execution_count": 30,
   "outputs": [
    {
     "data": {
      "text/plain": "100"
     },
     "execution_count": 30,
     "metadata": {},
     "output_type": "execute_result"
    }
   ],
   "source": [
    "datasets_keys = len((f['datasets/plot.1d_scan.histogram_context.probability']))\n",
    "datasets_keys"
   ],
   "metadata": {
    "collapsed": false,
    "pycharm": {
     "name": "#%%\n"
    }
   }
  },
  {
   "cell_type": "code",
   "execution_count": 31,
   "outputs": [
    {
     "data": {
      "text/plain": "array([0.00000000e+00, 5.05050505e-05, 1.01010101e-04, 1.51515152e-04,\n       2.02020202e-04, 2.52525253e-04, 3.03030303e-04, 3.53535354e-04,\n       4.04040404e-04, 4.54545455e-04, 5.05050505e-04, 5.55555556e-04,\n       6.06060606e-04, 6.56565657e-04, 7.07070707e-04, 7.57575758e-04,\n       8.08080808e-04, 8.58585859e-04, 9.09090909e-04, 9.59595960e-04,\n       1.01010101e-03, 1.06060606e-03, 1.11111111e-03, 1.16161616e-03,\n       1.21212121e-03, 1.26262626e-03, 1.31313131e-03, 1.36363636e-03,\n       1.41414141e-03, 1.46464646e-03, 1.51515152e-03, 1.56565657e-03,\n       1.61616162e-03, 1.66666667e-03, 1.71717172e-03, 1.76767677e-03,\n       1.81818182e-03, 1.86868687e-03, 1.91919192e-03, 1.96969697e-03,\n       2.02020202e-03, 2.07070707e-03, 2.12121212e-03, 2.17171717e-03,\n       2.22222222e-03, 2.27272727e-03, 2.32323232e-03, 2.37373737e-03,\n       2.42424242e-03, 2.47474747e-03, 2.52525253e-03, 2.57575758e-03,\n       2.62626263e-03, 2.67676768e-03, 2.72727273e-03, 2.77777778e-03,\n       2.82828283e-03, 2.87878788e-03, 2.92929293e-03, 2.97979798e-03,\n       3.03030303e-03, 3.08080808e-03, 3.13131313e-03, 3.18181818e-03,\n       3.23232323e-03, 3.28282828e-03, 3.33333333e-03, 3.38383838e-03,\n       3.43434343e-03, 3.48484848e-03, 3.53535354e-03, 3.58585859e-03,\n       3.63636364e-03, 3.68686869e-03, 3.73737374e-03, 3.78787879e-03,\n       3.83838384e-03, 3.88888889e-03, 3.93939394e-03, 3.98989899e-03,\n       4.04040404e-03, 4.09090909e-03, 4.14141414e-03, 4.19191919e-03,\n       4.24242424e-03, 4.29292929e-03, 4.34343434e-03, 4.39393939e-03,\n       4.44444444e-03, 4.49494949e-03, 4.54545455e-03, 4.59595960e-03,\n       4.64646465e-03, 4.69696970e-03, 4.74747475e-03, 4.79797980e-03,\n       4.84848485e-03, 4.89898990e-03, 4.94949495e-03, 5.00000000e-03])"
     },
     "execution_count": 31,
     "metadata": {},
     "output_type": "execute_result"
    }
   ],
   "source": [
    "f['datasets/scan/product/duration'][()]"
   ],
   "metadata": {
    "collapsed": false,
    "pycharm": {
     "name": "#%%\n"
    }
   }
  },
  {
   "cell_type": "code",
   "execution_count": 32,
   "outputs": [
    {
     "data": {
      "text/plain": "    duration  plot.1d_scan.histogram_context.fit  \\\n0   0.000000                            0.000000   \n1   0.000051                            0.146909   \n2   0.000101                            0.498771   \n3   0.000152                            0.849566   \n4   0.000202                            0.994937   \n..       ...                                 ...   \n95  0.004798                            0.256701   \n96  0.004848                            0.110992   \n97  0.004899                            0.192644   \n98  0.004949                            0.452937   \n99  0.005000                            0.739327   \n\n    plot.1d_scan.histogram_context.probability  \n0                                        0.000  \n1                                        0.190  \n2                                        0.525  \n3                                        0.750  \n4                                        0.935  \n..                                         ...  \n95                                       0.170  \n96                                       0.060  \n97                                       0.195  \n98                                       0.575  \n99                                       0.835  \n\n[100 rows x 3 columns]",
      "text/html": "<div>\n<style scoped>\n    .dataframe tbody tr th:only-of-type {\n        vertical-align: middle;\n    }\n\n    .dataframe tbody tr th {\n        vertical-align: top;\n    }\n\n    .dataframe thead th {\n        text-align: right;\n    }\n</style>\n<table border=\"1\" class=\"dataframe\">\n  <thead>\n    <tr style=\"text-align: right;\">\n      <th></th>\n      <th>duration</th>\n      <th>plot.1d_scan.histogram_context.fit</th>\n      <th>plot.1d_scan.histogram_context.probability</th>\n    </tr>\n  </thead>\n  <tbody>\n    <tr>\n      <th>0</th>\n      <td>0.000000</td>\n      <td>0.000000</td>\n      <td>0.000</td>\n    </tr>\n    <tr>\n      <th>1</th>\n      <td>0.000051</td>\n      <td>0.146909</td>\n      <td>0.190</td>\n    </tr>\n    <tr>\n      <th>2</th>\n      <td>0.000101</td>\n      <td>0.498771</td>\n      <td>0.525</td>\n    </tr>\n    <tr>\n      <th>3</th>\n      <td>0.000152</td>\n      <td>0.849566</td>\n      <td>0.750</td>\n    </tr>\n    <tr>\n      <th>4</th>\n      <td>0.000202</td>\n      <td>0.994937</td>\n      <td>0.935</td>\n    </tr>\n    <tr>\n      <th>...</th>\n      <td>...</td>\n      <td>...</td>\n      <td>...</td>\n    </tr>\n    <tr>\n      <th>95</th>\n      <td>0.004798</td>\n      <td>0.256701</td>\n      <td>0.170</td>\n    </tr>\n    <tr>\n      <th>96</th>\n      <td>0.004848</td>\n      <td>0.110992</td>\n      <td>0.060</td>\n    </tr>\n    <tr>\n      <th>97</th>\n      <td>0.004899</td>\n      <td>0.192644</td>\n      <td>0.195</td>\n    </tr>\n    <tr>\n      <th>98</th>\n      <td>0.004949</td>\n      <td>0.452937</td>\n      <td>0.575</td>\n    </tr>\n    <tr>\n      <th>99</th>\n      <td>0.005000</td>\n      <td>0.739327</td>\n      <td>0.835</td>\n    </tr>\n  </tbody>\n</table>\n<p>100 rows × 3 columns</p>\n</div>"
     },
     "execution_count": 32,
     "metadata": {},
     "output_type": "execute_result"
    }
   ],
   "source": [
    "raw_data = pd.DataFrame()\n",
    "scan_strings = list(f['datasets/scan/product'].keys())\n",
    "rows = []\n",
    "\n",
    "scan_calls = []\n",
    "for i in scan_strings:\n",
    "    scan_calls.append('datasets/scan/product/'+i)\n",
    "\n",
    "for i in range(len(list(f[scan_calls[0]]))):\n",
    "    input = []\n",
    "    for j in scan_calls:\n",
    "        input.append(f[j][i])\n",
    "    rows.append(input)\n",
    "\n",
    "result_strings = []\n",
    "for i in list(f['datasets/'].keys()):\n",
    "    if i in ['dax', 'histogram_context', 'scan']:\n",
    "        pass\n",
    "    else:\n",
    "        result_strings.append(i)\n",
    "\n",
    "results = []\n",
    "for j in result_strings:\n",
    "    results = list((f['datasets/' + j][()]))\n",
    "    for i in range(len(rows)):\n",
    "        rows[i].append(float(results[i]))\n",
    "\n",
    "\n",
    "column_strings = scan_strings+result_strings\n",
    "\n",
    "data = pd.DataFrame(data = rows, columns=column_strings)\n",
    "data"
   ],
   "metadata": {
    "collapsed": false,
    "pycharm": {
     "name": "#%%\n"
    }
   }
  },
  {
   "cell_type": "code",
   "execution_count": 33,
   "outputs": [
    {
     "ename": "KeyError",
     "evalue": "'Probabilities'",
     "output_type": "error",
     "traceback": [
      "\u001B[1;31m---------------------------------------------------------------------------\u001B[0m",
      "\u001B[1;31mKeyError\u001B[0m                                  Traceback (most recent call last)",
      "\u001B[1;32m~\\Anaconda3\\lib\\site-packages\\pandas\\core\\indexes\\base.py\u001B[0m in \u001B[0;36mget_loc\u001B[1;34m(self, key, method, tolerance)\u001B[0m\n\u001B[0;32m   3360\u001B[0m             \u001B[1;32mtry\u001B[0m\u001B[1;33m:\u001B[0m\u001B[1;33m\u001B[0m\u001B[1;33m\u001B[0m\u001B[0m\n\u001B[1;32m-> 3361\u001B[1;33m                 \u001B[1;32mreturn\u001B[0m \u001B[0mself\u001B[0m\u001B[1;33m.\u001B[0m\u001B[0m_engine\u001B[0m\u001B[1;33m.\u001B[0m\u001B[0mget_loc\u001B[0m\u001B[1;33m(\u001B[0m\u001B[0mcasted_key\u001B[0m\u001B[1;33m)\u001B[0m\u001B[1;33m\u001B[0m\u001B[1;33m\u001B[0m\u001B[0m\n\u001B[0m\u001B[0;32m   3362\u001B[0m             \u001B[1;32mexcept\u001B[0m \u001B[0mKeyError\u001B[0m \u001B[1;32mas\u001B[0m \u001B[0merr\u001B[0m\u001B[1;33m:\u001B[0m\u001B[1;33m\u001B[0m\u001B[1;33m\u001B[0m\u001B[0m\n",
      "\u001B[1;32m~\\Anaconda3\\lib\\site-packages\\pandas\\_libs\\index.pyx\u001B[0m in \u001B[0;36mpandas._libs.index.IndexEngine.get_loc\u001B[1;34m()\u001B[0m\n",
      "\u001B[1;32m~\\Anaconda3\\lib\\site-packages\\pandas\\_libs\\index.pyx\u001B[0m in \u001B[0;36mpandas._libs.index.IndexEngine.get_loc\u001B[1;34m()\u001B[0m\n",
      "\u001B[1;32mpandas\\_libs\\hashtable_class_helper.pxi\u001B[0m in \u001B[0;36mpandas._libs.hashtable.PyObjectHashTable.get_item\u001B[1;34m()\u001B[0m\n",
      "\u001B[1;32mpandas\\_libs\\hashtable_class_helper.pxi\u001B[0m in \u001B[0;36mpandas._libs.hashtable.PyObjectHashTable.get_item\u001B[1;34m()\u001B[0m\n",
      "\u001B[1;31mKeyError\u001B[0m: 'Probabilities'",
      "\nThe above exception was the direct cause of the following exception:\n",
      "\u001B[1;31mKeyError\u001B[0m                                  Traceback (most recent call last)",
      "\u001B[1;32m~\\AppData\\Local\\Temp/ipykernel_10392/2937266806.py\u001B[0m in \u001B[0;36m<module>\u001B[1;34m\u001B[0m\n\u001B[1;32m----> 1\u001B[1;33m \u001B[0mplt\u001B[0m\u001B[1;33m.\u001B[0m\u001B[0mplot\u001B[0m\u001B[1;33m(\u001B[0m\u001B[0mdata\u001B[0m\u001B[1;33m[\u001B[0m\u001B[1;34m'duration'\u001B[0m\u001B[1;33m]\u001B[0m\u001B[1;33m,\u001B[0m \u001B[0mdata\u001B[0m\u001B[1;33m[\u001B[0m\u001B[1;34m'Probabilities'\u001B[0m\u001B[1;33m]\u001B[0m\u001B[1;33m)\u001B[0m\u001B[1;33m\u001B[0m\u001B[1;33m\u001B[0m\u001B[0m\n\u001B[0m\u001B[0;32m      2\u001B[0m \u001B[0mplt\u001B[0m\u001B[1;33m.\u001B[0m\u001B[0mplot\u001B[0m\u001B[1;33m(\u001B[0m\u001B[0mdata\u001B[0m\u001B[1;33m[\u001B[0m\u001B[1;34m'duration'\u001B[0m\u001B[1;33m]\u001B[0m\u001B[1;33m,\u001B[0m \u001B[0mdata\u001B[0m\u001B[1;33m[\u001B[0m\u001B[1;34m'Fit'\u001B[0m\u001B[1;33m]\u001B[0m\u001B[1;33m)\u001B[0m\u001B[1;33m\u001B[0m\u001B[1;33m\u001B[0m\u001B[0m\n",
      "\u001B[1;32m~\\Anaconda3\\lib\\site-packages\\pandas\\core\\frame.py\u001B[0m in \u001B[0;36m__getitem__\u001B[1;34m(self, key)\u001B[0m\n\u001B[0;32m   3456\u001B[0m             \u001B[1;32mif\u001B[0m \u001B[0mself\u001B[0m\u001B[1;33m.\u001B[0m\u001B[0mcolumns\u001B[0m\u001B[1;33m.\u001B[0m\u001B[0mnlevels\u001B[0m \u001B[1;33m>\u001B[0m \u001B[1;36m1\u001B[0m\u001B[1;33m:\u001B[0m\u001B[1;33m\u001B[0m\u001B[1;33m\u001B[0m\u001B[0m\n\u001B[0;32m   3457\u001B[0m                 \u001B[1;32mreturn\u001B[0m \u001B[0mself\u001B[0m\u001B[1;33m.\u001B[0m\u001B[0m_getitem_multilevel\u001B[0m\u001B[1;33m(\u001B[0m\u001B[0mkey\u001B[0m\u001B[1;33m)\u001B[0m\u001B[1;33m\u001B[0m\u001B[1;33m\u001B[0m\u001B[0m\n\u001B[1;32m-> 3458\u001B[1;33m             \u001B[0mindexer\u001B[0m \u001B[1;33m=\u001B[0m \u001B[0mself\u001B[0m\u001B[1;33m.\u001B[0m\u001B[0mcolumns\u001B[0m\u001B[1;33m.\u001B[0m\u001B[0mget_loc\u001B[0m\u001B[1;33m(\u001B[0m\u001B[0mkey\u001B[0m\u001B[1;33m)\u001B[0m\u001B[1;33m\u001B[0m\u001B[1;33m\u001B[0m\u001B[0m\n\u001B[0m\u001B[0;32m   3459\u001B[0m             \u001B[1;32mif\u001B[0m \u001B[0mis_integer\u001B[0m\u001B[1;33m(\u001B[0m\u001B[0mindexer\u001B[0m\u001B[1;33m)\u001B[0m\u001B[1;33m:\u001B[0m\u001B[1;33m\u001B[0m\u001B[1;33m\u001B[0m\u001B[0m\n\u001B[0;32m   3460\u001B[0m                 \u001B[0mindexer\u001B[0m \u001B[1;33m=\u001B[0m \u001B[1;33m[\u001B[0m\u001B[0mindexer\u001B[0m\u001B[1;33m]\u001B[0m\u001B[1;33m\u001B[0m\u001B[1;33m\u001B[0m\u001B[0m\n",
      "\u001B[1;32m~\\Anaconda3\\lib\\site-packages\\pandas\\core\\indexes\\base.py\u001B[0m in \u001B[0;36mget_loc\u001B[1;34m(self, key, method, tolerance)\u001B[0m\n\u001B[0;32m   3361\u001B[0m                 \u001B[1;32mreturn\u001B[0m \u001B[0mself\u001B[0m\u001B[1;33m.\u001B[0m\u001B[0m_engine\u001B[0m\u001B[1;33m.\u001B[0m\u001B[0mget_loc\u001B[0m\u001B[1;33m(\u001B[0m\u001B[0mcasted_key\u001B[0m\u001B[1;33m)\u001B[0m\u001B[1;33m\u001B[0m\u001B[1;33m\u001B[0m\u001B[0m\n\u001B[0;32m   3362\u001B[0m             \u001B[1;32mexcept\u001B[0m \u001B[0mKeyError\u001B[0m \u001B[1;32mas\u001B[0m \u001B[0merr\u001B[0m\u001B[1;33m:\u001B[0m\u001B[1;33m\u001B[0m\u001B[1;33m\u001B[0m\u001B[0m\n\u001B[1;32m-> 3363\u001B[1;33m                 \u001B[1;32mraise\u001B[0m \u001B[0mKeyError\u001B[0m\u001B[1;33m(\u001B[0m\u001B[0mkey\u001B[0m\u001B[1;33m)\u001B[0m \u001B[1;32mfrom\u001B[0m \u001B[0merr\u001B[0m\u001B[1;33m\u001B[0m\u001B[1;33m\u001B[0m\u001B[0m\n\u001B[0m\u001B[0;32m   3364\u001B[0m \u001B[1;33m\u001B[0m\u001B[0m\n\u001B[0;32m   3365\u001B[0m         \u001B[1;32mif\u001B[0m \u001B[0mis_scalar\u001B[0m\u001B[1;33m(\u001B[0m\u001B[0mkey\u001B[0m\u001B[1;33m)\u001B[0m \u001B[1;32mand\u001B[0m \u001B[0misna\u001B[0m\u001B[1;33m(\u001B[0m\u001B[0mkey\u001B[0m\u001B[1;33m)\u001B[0m \u001B[1;32mand\u001B[0m \u001B[1;32mnot\u001B[0m \u001B[0mself\u001B[0m\u001B[1;33m.\u001B[0m\u001B[0mhasnans\u001B[0m\u001B[1;33m:\u001B[0m\u001B[1;33m\u001B[0m\u001B[1;33m\u001B[0m\u001B[0m\n",
      "\u001B[1;31mKeyError\u001B[0m: 'Probabilities'"
     ]
    }
   ],
   "source": [
    "plt.plot(data['duration'], data['Probabilities'])\n",
    "plt.plot(data['duration'], data['Fit'])"
   ],
   "metadata": {
    "collapsed": false,
    "pycharm": {
     "name": "#%%\n"
    }
   }
  },
  {
   "cell_type": "code",
   "execution_count": null,
   "outputs": [],
   "source": [
    "exp_id = (f['expid'][()])\n",
    "exp_id = json.loads(exp_id)\n",
    "exp_dict = exp_id['arguments']\n",
    "\n",
    "exp_id = pd.DataFrame(exp_id)\n",
    "column_list = exp_id.columns.values.tolist()\n",
    "arguments = exp_id.filter(items=['arguments'])\n",
    "print(exp_dict)\n",
    "\n",
    "exp_info = exp_id.filter(items=column_list).iloc[0]\n",
    "list(exp_info)\n",
    "\n",
    "keys = list(exp_info.index)\n",
    "values = list(exp_info)\n",
    "\n",
    "# using map and dict type casting\n",
    "# to convert lists to dictionary\n",
    "res = dict(map(lambda i,j : (i,j) , keys,values))\n",
    "exp_dict.update(res)"
   ],
   "metadata": {
    "collapsed": false,
    "pycharm": {
     "name": "#%%\n"
    }
   }
  },
  {
   "cell_type": "code",
   "execution_count": null,
   "outputs": [],
   "source": [
    "arguments"
   ],
   "metadata": {
    "collapsed": false,
    "pycharm": {
     "name": "#%%\n"
    }
   }
  },
  {
   "cell_type": "code",
   "execution_count": null,
   "outputs": [],
   "source": [
    "exp_info.append()"
   ],
   "metadata": {
    "collapsed": false,
    "pycharm": {
     "name": "#%%\n"
    }
   }
  },
  {
   "cell_type": "code",
   "execution_count": null,
   "outputs": [],
   "source": [
    "f['rid'][()]"
   ],
   "metadata": {
    "collapsed": false,
    "pycharm": {
     "name": "#%%\n"
    }
   }
  },
  {
   "cell_type": "code",
   "execution_count": null,
   "outputs": [],
   "source": [
    "f['run_time'][()]"
   ],
   "metadata": {
    "collapsed": false,
    "pycharm": {
     "name": "#%%\n"
    }
   }
  },
  {
   "cell_type": "code",
   "execution_count": null,
   "outputs": [],
   "source": [
    "f['start_time'][()]"
   ],
   "metadata": {
    "collapsed": false,
    "pycharm": {
     "name": "#%%\n"
    }
   }
  },
  {
   "cell_type": "code",
   "execution_count": null,
   "outputs": [],
   "source": [
    "from experiment_import import *\n",
    "coolio = Experiment('000027073-RamanDdsApdBsbTimeScan.h5')"
   ],
   "metadata": {
    "collapsed": false,
    "pycharm": {
     "name": "#%%\n"
    }
   }
  },
  {
   "cell_type": "code",
   "execution_count": null,
   "outputs": [],
   "source": [
    "df = coolio.data()"
   ],
   "metadata": {
    "collapsed": false,
    "pycharm": {
     "name": "#%%\n"
    }
   }
  },
  {
   "cell_type": "code",
   "execution_count": null,
   "outputs": [],
   "source": [
    "df.columns"
   ],
   "metadata": {
    "collapsed": false,
    "pycharm": {
     "name": "#%%\n"
    }
   }
  },
  {
   "cell_type": "code",
   "execution_count": null,
   "outputs": [],
   "source": [
    "coolio.dataset_keys"
   ],
   "metadata": {
    "collapsed": false,
    "pycharm": {
     "name": "#%%\n"
    }
   }
  },
  {
   "cell_type": "markdown",
   "source": [],
   "metadata": {
    "collapsed": false,
    "pycharm": {
     "name": "#%% md\n"
    }
   }
  },
  {
   "cell_type": "code",
   "execution_count": null,
   "outputs": [],
   "source": [
    "coolio.scan_keys"
   ],
   "metadata": {
    "collapsed": false,
    "pycharm": {
     "name": "#%%\n"
    }
   }
  },
  {
   "cell_type": "code",
   "execution_count": null,
   "outputs": [],
   "source": [
    "coolio.quick_plot()"
   ],
   "metadata": {
    "collapsed": false,
    "pycharm": {
     "name": "#%%\n"
    }
   }
  },
  {
   "cell_type": "code",
   "execution_count": null,
   "outputs": [],
   "source": [],
   "metadata": {
    "collapsed": false,
    "pycharm": {
     "name": "#%%\n"
    }
   }
  }
 ],
 "metadata": {
  "kernelspec": {
   "display_name": "Python 3",
   "language": "python",
   "name": "python3"
  },
  "language_info": {
   "codemirror_mode": {
    "name": "ipython",
    "version": 2
   },
   "file_extension": ".py",
   "mimetype": "text/x-python",
   "name": "python",
   "nbconvert_exporter": "python",
   "pygments_lexer": "ipython2",
   "version": "2.7.6"
  }
 },
 "nbformat": 4,
 "nbformat_minor": 0
}