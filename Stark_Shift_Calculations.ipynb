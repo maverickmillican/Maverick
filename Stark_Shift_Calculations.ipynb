{
 "cells": [
  {
   "cell_type": "code",
   "execution_count": 62,
   "id": "97816c73-68ea-4a97-b6f5-d34b391e00b0",
   "metadata": {},
   "outputs": [],
   "source": [
    "import math\n",
    "import numpy as np\n",
    "import scipy\n",
    "from scipy.special import factorial2\n",
    "import matplotlib.pyplot as plt\n",
    "import numpy as np\n",
    "from sympy.physics.wigner import wigner_3j\n",
    "from sympy.functions.elementary.miscellaneous import sqrt"
   ]
  },
  {
   "cell_type": "code",
   "execution_count": 108,
   "id": "9c92e994-7add-468a-9867-9cb1f2968c1a",
   "metadata": {},
   "outputs": [],
   "source": [
    "epsilon_0 = 8.8541878128e-12;\n",
    "e = -1.6e-19\n",
    "h_bar = 1.054571817e-34;\n",
    "h = 2*np.pi * h_bar;\n",
    "c = 299792458;\n",
    "kB = 1.3806505e-23;\n",
    "amu = 1.66053886e-27; #(*atomic mass unit in kg*)\n",
    "me = 9.1093837015e-31;\n",
    "mp = 1.67262192369e-27;\n",
    "mu_B = 9.2740100783e-24;\n",
    "mu_N = 5.050783746e-27;\n",
    "eV = 1.602176634e-19;\n",
    "kHz = 10**3;\n",
    "MHz = 10**6;\n",
    "GHz = 10**9;\n",
    "THz = 10**12;\n",
    "gauss = 10**-4;\n",
    "nm = 10**-9;\n",
    "mu_m = 10**-6;\n",
    "mW = 10**-3;\n",
    "mu_s = 10**-6;\n",
    "mu_T = 10**-6;\n",
    "Gauss = 10**-4;\n",
    "mGauss = Gauss*10**-3;\n",
    "a0 = 5.2917721067e-11;\n",
    "alpha = 1/137.036;\n",
    "c = 3e8;\n",
    "THz = 10**12\n",
    "frequency = 729.487752 * THz\n",
    "w = 2*np.pi*frequency\n",
    "w_0 = 2*mu_m # beam waist\n",
    "rme_q = 12.9*eV*a0**2\n",
    "gamma = np.pi/2 # angle between the polarization and the magnetic field vector projected into the plane of incidence\n",
    "phi = np.pi/2 # angle between the laser beam and the magnetic field"
   ]
  },
  {
   "cell_type": "markdown",
   "id": "a1ddcc81-d7f7-4bf6-89e1-f3ec728bf6f9",
   "metadata": {},
   "source": [
    "Using Frequency of $F=0$ to $F=2$, $\\Delta mF = 0$"
   ]
  },
  {
   "cell_type": "code",
   "execution_count": 118,
   "id": "6c3f9792-3bf3-4a83-9062-5c181ed43b99",
   "metadata": {},
   "outputs": [],
   "source": [
    "def finds(j, j_, k=2):\n",
    "    num = int(j+j_+k)\n",
    "    if (num % 2) == 0:\n",
    "        s = k\n",
    "    else:\n",
    "        s = k+1\n",
    "    return(s)\n",
    "\n",
    "def delta_equation(j, j_, k=2):\n",
    "    a = j; b = j_; c = k\n",
    "    delta = (math.factorial(a+b-c) * \n",
    "             math.factorial(b+c-a) * \n",
    "             math.factorial(c+a-b) / \n",
    "             math.factorial(a+b+c+1))**(1/2)\n",
    "    return delta \n",
    "    \n",
    "# def rdme(l, j, l_, j_, k=2): \n",
    "#     s = finds(j, j_, k)\n",
    "#     delta = delta_function(j, j_, k)\n",
    "#     img = (-1)**((j_-j+s-1)/2)\n",
    "#     img_rnd = round(img.real, 2) + round(img.imag, 2) * 1j\n",
    "#     matrix_element = (1/2 * (1 + (-1)**(l+l_+k)) * \n",
    "#                       img_rnd * \n",
    "#                       delta * \n",
    "#                       factorial2(j+j_+s) / \n",
    "#                       factorial2(j+j_-s) / \n",
    "#                       factorial2(j-j_+s-1) / \n",
    "#                       factorial2(j_-j+s-1))\n",
    "#     # print(s)\n",
    "#     # print(1/2 * (1 + (-1)**(l+l_+k)))\n",
    "#     # print(img_rnd)\n",
    "#     # print(delta)\n",
    "#     # print(factorial2(j+j_+s))\n",
    "#     # print(factorial2(j+j_-s))\n",
    "#     # print(factorial2(j-j_+s-1))\n",
    "#     # print(factorial2(j_-j+s-1))\n",
    "#     return matrix_element\n",
    "\n",
    "def einstein_A(w, j_):\n",
    "    a_coeff = c*alpha*((w/c)**5)/(15*(2*j_+1))*abs(rme_q)**2\n",
    "    return a_coeff\n",
    "\n",
    "def sum_3j_geometric(j, mj, j_, mj_):\n",
    "    this = []\n",
    "    for q in range (-2, 2+1):\n",
    "        symbol3j = float(wigner_3j(j, 2, j_, -mj, q, mj_))\n",
    "        if abs(q) == 2: \n",
    "            g = 1/np.sqrt(6) * abs(1/2*np.cos(gamma)*np.sin(2*phi) + 1j*np.sin(gamma)*np.sin(phi))\n",
    "        elif abs(q) == 1:\n",
    "            g = 1/np.sqrt(6) * abs(np.cos(gamma)*np.cos(2*phi) + 1j*np.sin(gamma)*np.cos(phi))\n",
    "        elif abs(q) == 0: \n",
    "            g = 1/2 * abs(np.cos(gamma)*np.sin(2*phi))\n",
    "        else:\n",
    "            print(\"Error in Geometric Function\")\n",
    "        this.append(symbol3j*g)\n",
    "    this_sum = sum(this)\n",
    "    return this_sum\n",
    "\n",
    "def sigma(j, mj, j_, mj_):\n",
    "    value = np.sqrt((15*(2*j_+1))/(4)) * abs(sum_3j_geometric(j, mj, j_, mj_))\n",
    "    return value\n",
    "    \n",
    "def E_field(p, w_0):\n",
    "    field = np.sqrt((4*p)/(np.pi*(w_0**2)*c*epsilon_0))\n",
    "    return field\n",
    "\n",
    "def rabi_rate(p, w_0, w, j, mj, j_, mj_):\n",
    "    rabi_0 = e * abs(E_field(p, w_0)) / (h_bar * np.sqrt(c*alpha)) * np.sqrt(einstein_A(w, j_)/((w/c)**(3))) * sigma(j, mj, j_, mj_)\n",
    "    return rabi_0"
   ]
  },
  {
   "cell_type": "code",
   "execution_count": null,
   "id": "dcddce43-476a-4597-adb9-5e40d4568f9b",
   "metadata": {},
   "outputs": [],
   "source": []
  },
  {
   "cell_type": "code",
   "execution_count": 124,
   "id": "0c057834-f252-4ef5-a2c4-ae3572746f8d",
   "metadata": {},
   "outputs": [
    {
     "data": {
      "text/plain": [
       "-3.893674072405092e-43"
      ]
     },
     "execution_count": 124,
     "metadata": {},
     "output_type": "execute_result"
    }
   ],
   "source": [
    "rabi_rate(p=100*mW, w_0=w_0, w=w, j=0, mj=0, j_=2, mj_=0)"
   ]
  },
  {
   "cell_type": "code",
   "execution_count": null,
   "id": "8ab1cbe0-ef7b-458f-986a-b7f1291346d8",
   "metadata": {},
   "outputs": [],
   "source": []
  },
  {
   "cell_type": "code",
   "execution_count": null,
   "id": "94442744-42d4-42b4-9961-ccb4d97c166e",
   "metadata": {},
   "outputs": [],
   "source": []
  }
 ],
 "metadata": {
  "kernelspec": {
   "display_name": "Python 3 (ipykernel)",
   "language": "python",
   "name": "python3"
  },
  "language_info": {
   "codemirror_mode": {
    "name": "ipython",
    "version": 3
   },
   "file_extension": ".py",
   "mimetype": "text/x-python",
   "name": "python",
   "nbconvert_exporter": "python",
   "pygments_lexer": "ipython3",
   "version": "3.9.7"
  }
 },
 "nbformat": 4,
 "nbformat_minor": 5
}
