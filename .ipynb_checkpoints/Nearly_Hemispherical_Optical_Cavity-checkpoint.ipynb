{
 "cells": [
  {
   "cell_type": "code",
   "execution_count": 131,
   "id": "77b80e9a-d850-45d3-bbaa-b22d46f6c473",
   "metadata": {},
   "outputs": [],
   "source": [
    "import math\n",
    "import numpy as np\n",
    "import scipy\n"
   ]
  },
  {
   "cell_type": "code",
   "execution_count": 146,
   "id": "d6f488e3-4ad6-4258-9a87-c3049520fc68",
   "metadata": {},
   "outputs": [
    {
     "data": {
      "text/plain": [
       "0.2387"
      ]
     },
     "execution_count": 146,
     "metadata": {},
     "output_type": "execute_result"
    }
   ],
   "source": [
    "L = 100 #mm\n",
    "lamda = 411e-6 #mm\n",
    "R = 500 #mm\n",
    "f_collimator = 3.1 #mm\n",
    "w_0 = f_collimator * .077 #mm\n",
    "w_0"
   ]
  },
  {
   "cell_type": "markdown",
   "id": "2249df88-4bee-4207-9c31-0c4a0af8357b",
   "metadata": {},
   "source": [
    "## Classical Geometric Optics"
   ]
  },
  {
   "cell_type": "code",
   "execution_count": 147,
   "id": "0c40392b-a709-459a-b3a5-175da92825e5",
   "metadata": {},
   "outputs": [
    {
     "name": "stdout",
     "output_type": "stream",
     "text": [
      "w_flat = 0.16175621361885173 mm\n"
     ]
    }
   ],
   "source": [
    "w_flat = L * lamda / np.pi * (np.sqrt((1 - L/R) / (L/R)))\n",
    "print(f\"w_flat = {np.sqrt(w_flat)} mm\")"
   ]
  },
  {
   "cell_type": "code",
   "execution_count": 148,
   "id": "7b89db2e-1cd3-43d0-81f4-185087885927",
   "metadata": {},
   "outputs": [
    {
     "name": "stdout",
     "output_type": "stream",
     "text": [
      "w_curve = 0.18084894471736487 mm\n"
     ]
    }
   ],
   "source": [
    "w_curve = L * lamda / np.pi * (np.sqrt( 1 / ((1 - L/R)*(L/R))))\n",
    "print(f\"w_curve = {np.sqrt(w_curve)} mm\")"
   ]
  },
  {
   "cell_type": "code",
   "execution_count": 149,
   "id": "185d74c0-ecb5-4a69-8263-9409a5053bf8",
   "metadata": {},
   "outputs": [],
   "source": [
    "# These caclulations assume the cavity center to be 0, the flat mirror in the negative, and curved mirror in positive. \n",
    "theta = np.arctan((w_curve - w_flat) / L)\n",
    "fpoint_out = -(w_curve / np.tan(theta)) + L/2 #distance away from cavity center\n",
    "d1 = (w_flat * L) / (w_flat + w_curve) #distance from flat mirror\n",
    "fpoint_in = d1 - L/2 #distance from flat mirror\n"
   ]
  },
  {
   "cell_type": "code",
   "execution_count": 150,
   "id": "194b57a6-43e8-4c66-9320-ec6633f528ab",
   "metadata": {},
   "outputs": [],
   "source": [
    "focal_in = w_0 * d1 / w_flat\n",
    "focal_out = w_0 / np.tan(theta)"
   ]
  },
  {
   "cell_type": "code",
   "execution_count": 151,
   "id": "8c918f2c-85f2-4de0-aff3-a3a2f4b00c2b",
   "metadata": {},
   "outputs": [
    {
     "name": "stdout",
     "output_type": "stream",
     "text": [
      "Translational basis with cavity center at 0, flat mirror in the negative, curved mirror in the positive.\n",
      "Collimated beam waist (diameter/2) = 0.2387mm\n",
      "Two best focal points are -450.00mm and -5.56mm from the center of the cavity\n",
      "Corresponding focal lengths 3649.14mm and 405.46mm from the center of the cavity\n"
     ]
    }
   ],
   "source": [
    "print(\"Translational basis with cavity center at 0, flat mirror in the negative, curved mirror in the positive.\")\n",
    "print(f\"Collimated beam waist (diameter/2) = {w_0}mm\")\n",
    "print(f\"Two best focal points are {fpoint_out:.2f}mm and {fpoint_in:.2f}mm from the center of the cavity\")\n",
    "print(f\"Corresponding focal lengths {focal_out:.2f}mm and {focal_in:.2f}mm from the center of the cavity\")"
   ]
  },
  {
   "cell_type": "markdown",
   "id": "d8311685-f9bc-40f0-8743-0865ac460358",
   "metadata": {},
   "source": [
    "## Gaussian Optics Method"
   ]
  },
  {
   "cell_type": "code",
   "execution_count": 152,
   "id": "f43ca678-b6ab-4b10-bda5-a63eb34628e6",
   "metadata": {},
   "outputs": [
    {
     "name": "stdout",
     "output_type": "stream",
     "text": [
      "Effective Gaussian Optics range: 200.00mm\n",
      "Beam Radius at flat mirror: 0.162mm\n"
     ]
    }
   ],
   "source": [
    "w_flat = np.sqrt(lamda * np.sqrt(L*(R-L)) / np.pi)\n",
    "w_flat\n",
    "z_rayleigh = np.pi * (w_flat)**2 / lamda\n",
    "print(f\"Effective Gaussian Optics range: {z_rayleigh:.2f}mm\")\n",
    "print(f\"Beam Radius at flat mirror: {w_flat:.3f}mm\")"
   ]
  },
  {
   "cell_type": "code",
   "execution_count": 153,
   "id": "1045da56-8712-4b2d-a235-0bcefd703479",
   "metadata": {},
   "outputs": [
    {
     "name": "stdout",
     "output_type": "stream",
     "text": [
      "Divergence Angle from flat mirror: 8.09e-04 radians\n"
     ]
    }
   ],
   "source": [
    "theta_div = lamda / (np.pi * w_flat)\n",
    "print(f\"Divergence Angle from flat mirror: {theta_div:.2e} radians\")"
   ]
  },
  {
   "cell_type": "code",
   "execution_count": 154,
   "id": "61f10317-f900-4fbe-a088-433ea6c77008",
   "metadata": {},
   "outputs": [
    {
     "name": "stdout",
     "output_type": "stream",
     "text": [
      "Beam Radius at curved mirror: 0.181mm\n"
     ]
    }
   ],
   "source": [
    "w_curve = np.sqrt(lamda * R / np.pi) * (L / (R - L)) **(1/4)\n",
    "print(f\"Beam Radius at curved mirror: {w_curve:.3f}mm\")"
   ]
  },
  {
   "cell_type": "code",
   "execution_count": 155,
   "id": "31824e6d-f264-41ad-9608-2db51a5cb97e",
   "metadata": {},
   "outputs": [
    {
     "name": "stdout",
     "output_type": "stream",
     "text": [
      "Focal length and distance of lens from the center of the cavity: 150.00mm\n"
     ]
    }
   ],
   "source": [
    "lens_distance = np.pi * w_flat**2 / lamda - L/2 #distance calculated from the center of the cavity, hence the L/2\n",
    "f_lens = lens_distance + L/2\n",
    "print(f\"Focal length and distance of lens from the center of the cavity: {lens_distance:.2f}mm\")"
   ]
  },
  {
   "cell_type": "code",
   "execution_count": 156,
   "id": "be7af78f-4a0e-4c3c-a3b7-1b57ff1f7634",
   "metadata": {},
   "outputs": [
    {
     "name": "stdout",
     "output_type": "stream",
     "text": [
      "Beam radius 149.99999999999997mm after cavity: 0.229mm\n"
     ]
    }
   ],
   "source": [
    "w_output = w_flat * np.sqrt( 1 + ((lamda * (lens_distance + L/2)) / (np.pi * w_flat**2))**2) # (L/2) accounts for zeroing the center of the cavity\n",
    "print(f\"Beam radius {output_distance}mm after cavity: {w_output:.3f}mm\")"
   ]
  },
  {
   "cell_type": "code",
   "execution_count": 157,
   "id": "7ea2c168-4ea1-4536-a35f-22b4bba3b7a6",
   "metadata": {},
   "outputs": [
    {
     "name": "stdout",
     "output_type": "stream",
     "text": [
      "Translational basis with cavity center at 0, curved mirror in the negative, flat mirror in the positive.\n",
      "Beam Radius at flat mirror: 0.162mm\n",
      "Beam Radius at curved mirror: 0.181mm\n",
      "Divergence Angle from flat mirror: 8.09e-04 radians\n",
      "Lens focal length: 200.00mm\n",
      "Distance of lens from the center of the cavity: 150.00mm\n",
      "Desired beam radius prior to lens = 0.229mm\n",
      "Collimated beam radius = 0.239mm\n"
     ]
    }
   ],
   "source": [
    "print(\"Translational basis with cavity center at 0, curved mirror in the negative, flat mirror in the positive.\")\n",
    "print(f\"Beam Radius at flat mirror: {w_flat:.3f}mm\")\n",
    "print(f\"Beam Radius at curved mirror: {w_curve:.3f}mm\")\n",
    "print(f\"Divergence Angle from flat mirror: {theta_div:.2e} radians\")\n",
    "print(f\"Lens focal length: {f_lens:.2f}mm\")\n",
    "print(f\"Distance of lens from the center of the cavity: {lens_distance:.2f}mm\")\n",
    "print(f\"Desired beam radius prior to lens = {w_output:.3f}mm\")\n",
    "print(f\"Collimated beam radius = {w_0:.3f}mm\")"
   ]
  },
  {
   "cell_type": "code",
   "execution_count": null,
   "id": "b53c9317-1db3-4819-b7aa-f6f8a20f7dce",
   "metadata": {
    "tags": []
   },
   "outputs": [],
   "source": []
  },
  {
   "cell_type": "code",
   "execution_count": null,
   "id": "2d0726e8-fded-43d9-ae8c-1c3b95aaeeda",
   "metadata": {},
   "outputs": [],
   "source": []
  },
  {
   "cell_type": "code",
   "execution_count": null,
   "id": "3cf2cf22-38f0-4e7d-aaf8-03ac043d3f90",
   "metadata": {},
   "outputs": [],
   "source": []
  }
 ],
 "metadata": {
  "kernelspec": {
   "display_name": "Python 3 (ipykernel)",
   "language": "python",
   "name": "python3"
  },
  "language_info": {
   "codemirror_mode": {
    "name": "ipython",
    "version": 3
   },
   "file_extension": ".py",
   "mimetype": "text/x-python",
   "name": "python",
   "nbconvert_exporter": "python",
   "pygments_lexer": "ipython3",
   "version": "3.9.7"
  }
 },
 "nbformat": 4,
 "nbformat_minor": 5
}
