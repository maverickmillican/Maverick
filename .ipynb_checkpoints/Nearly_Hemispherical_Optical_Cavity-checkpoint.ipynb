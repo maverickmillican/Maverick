{
 "cells": [
  {
   "cell_type": "code",
   "execution_count": 8,
   "id": "77b80e9a-d850-45d3-bbaa-b22d46f6c473",
   "metadata": {},
   "outputs": [],
   "source": [
    "import math\n",
    "import numpy as np\n",
    "import scipy\n"
   ]
  },
  {
   "cell_type": "code",
   "execution_count": 61,
   "id": "d6f488e3-4ad6-4258-9a87-c3049520fc68",
   "metadata": {},
   "outputs": [],
   "source": [
    "L = 100 #mm\n",
    "lamda = 411e-6 #mm\n",
    "R = 500 #mm\n",
    "w_0 = 1.15 / 2 #mm"
   ]
  },
  {
   "cell_type": "code",
   "execution_count": 62,
   "id": "0c40392b-a709-459a-b3a5-175da92825e5",
   "metadata": {},
   "outputs": [
    {
     "name": "stdout",
     "output_type": "stream",
     "text": [
      "w_flat = 0.16175621361885173 mm\n"
     ]
    }
   ],
   "source": [
    "w_flat = L * lamda / np.pi * (np.sqrt((1 - L/R) / (L/R)))\n",
    "print(f\"w_flat = {np.sqrt(w_flat)} mm\")"
   ]
  },
  {
   "cell_type": "code",
   "execution_count": 63,
   "id": "7b89db2e-1cd3-43d0-81f4-185087885927",
   "metadata": {},
   "outputs": [
    {
     "name": "stdout",
     "output_type": "stream",
     "text": [
      "w_curve = 0.18084894471736487 mm\n"
     ]
    }
   ],
   "source": [
    "w_curve = L * lamda / np.pi * (np.sqrt( 1 / ((1 - L/R)*(L/R))))\n",
    "print(f\"w_curve = {np.sqrt(w_curve)} mm\")"
   ]
  },
  {
   "cell_type": "code",
   "execution_count": 96,
   "id": "185d74c0-ecb5-4a69-8263-9409a5053bf8",
   "metadata": {},
   "outputs": [],
   "source": [
    "# These caclulations assume the cavity center to be 0, the flat mirror in the negative, and curved mirror in positive. \n",
    "theta = np.arctan((w_curve - w_flat) / L)\n",
    "fpoint_out = -(w_curve / np.tan(theta)) + L/2 #distance away from cavity center\n",
    "d1 = (w_flat * L) / (w_flat + w_curve) #distance from flat mirror\n",
    "fpoint_in = d1 - L/2 #distance from flat mirror\n"
   ]
  },
  {
   "cell_type": "code",
   "execution_count": 130,
   "id": "194b57a6-43e8-4c66-9320-ec6633f528ab",
   "metadata": {},
   "outputs": [],
   "source": [
    "w_0 = .693 / 2   #w_0\n",
    "focal_in = w_0 * d1 / w_flat\n",
    "focal_out = w_0 / np.tan(theta)"
   ]
  },
  {
   "cell_type": "code",
   "execution_count": 131,
   "id": "8c918f2c-85f2-4de0-aff3-a3a2f4b00c2b",
   "metadata": {},
   "outputs": [
    {
     "name": "stdout",
     "output_type": "stream",
     "text": [
      "Translational basis with cavity center at 0, flat mirror in the negative, curved mirror in the positive.\n",
      "Collimated beam waist (diameter/2) = 0.3465mm\n",
      "Two best focal points are -450.00mm and -5.56mm from the center of the cavity\n",
      "Corresponding focal lengths 5297.14mm and 588.57mm from the center of the cavity\n"
     ]
    }
   ],
   "source": [
    "print(\"Translational basis with cavity center at 0, flat mirror in the negative, curved mirror in the positive.\")\n",
    "print(f\"Collimated beam waist (diameter/2) = {w_0}mm\")\n",
    "print(f\"Two best focal points are {fpoint_out:.2f}mm and {fpoint_in:.2f}mm from the center of the cavity\")\n",
    "print(f\"Corresponding focal lengths {focal_out:.2f}mm and {focal_in:.2f}mm from the center of the cavity\")"
   ]
  },
  {
   "cell_type": "code",
   "execution_count": null,
   "id": "ed1970f2-2ece-4ce8-a017-659829a7b5e3",
   "metadata": {},
   "outputs": [],
   "source": []
  },
  {
   "cell_type": "code",
   "execution_count": null,
   "id": "f43ca678-b6ab-4b10-bda5-a63eb34628e6",
   "metadata": {},
   "outputs": [],
   "source": []
  }
 ],
 "metadata": {
  "kernelspec": {
   "display_name": "Python 3 (ipykernel)",
   "language": "python",
   "name": "python3"
  },
  "language_info": {
   "codemirror_mode": {
    "name": "ipython",
    "version": 3
   },
   "file_extension": ".py",
   "mimetype": "text/x-python",
   "name": "python",
   "nbconvert_exporter": "python",
   "pygments_lexer": "ipython3",
   "version": "3.9.7"
  }
 },
 "nbformat": 4,
 "nbformat_minor": 5
}
